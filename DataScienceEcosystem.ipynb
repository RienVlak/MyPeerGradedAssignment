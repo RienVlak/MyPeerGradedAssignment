{
 "cells": [
  {
   "cell_type": "code",
   "execution_count": null,
   "id": "6cec1291-35e5-4456-aed8-4ffd16834820",
   "metadata": {},
   "outputs": [],
   "source": [
    "# Data Science Tools and Ecosystem #"
   ]
  },
  {
   "cell_type": "markdown",
   "id": "29510bc4-4a9a-4f84-80c0-f7d17fc6b8b3",
   "metadata": {},
   "source": [
    "In this notebook, Data Science Tools and Ecosystem are summarized."
   ]
  },
  {
   "cell_type": "code",
   "execution_count": null,
   "id": "5c13ee30-4d70-46a0-87ca-6fcc657dcf63",
   "metadata": {},
   "outputs": [],
   "source": [
    "Some of the key takeaways from the course  \n",
    "**Objectives**  \n",
    "- List popular languages for data science\n",
    "- List commonly used libraries used by data scientists\n",
    "- List of some data science tools\n",
    "- basis Python expressions"
   ]
  },
  {
   "cell_type": "code",
   "execution_count": null,
   "id": "00f0b621-b6d5-4533-88ee-0e29f3c7d4f2",
   "metadata": {},
   "outputs": [],
   "source": [
    "## Author ##  \n",
    "Rien Vlak"
   ]
  },
  {
   "cell_type": "code",
   "execution_count": null,
   "id": "752b204c-2e47-442b-851b-243fae0da199",
   "metadata": {},
   "outputs": [],
   "source": [
    "Some of the popular languages that Data Scientists use are:  \n",
    "    1. Python  \n",
    "    2. R  \n",
    "    3. SQL  "
   ]
  },
  {
   "cell_type": "code",
   "execution_count": null,
   "id": "737e276a-069a-4e19-9497-ea017ed9e1cd",
   "metadata": {},
   "outputs": [],
   "source": [
    "Some of the commonly used libraries used by Data Scientists include:  \n",
    "    1. Pandas  \n",
    "    2. NumPy  \n",
    "    3. SciPy  \n",
    "    4. Matplotlib  "
   ]
  },
  {
   "cell_type": "code",
   "execution_count": null,
   "id": "a1a59d11-8524-436c-ae82-2627170ae50c",
   "metadata": {},
   "outputs": [],
   "source": [
    "| Data Science Tools |\n",
    "| -------------------|\n",
    "| JupyterLab |\n",
    "| R Studio |\n",
    "| IBM Watson Studio |\n",
    "| Microsoft PowerBI |"
   ]
  },
  {
   "cell_type": "code",
   "execution_count": 9,
   "id": "a613a685-9662-40c2-98b3-efc875c0d6b0",
   "metadata": {},
   "outputs": [],
   "source": [
    "### Below are a few examples of evaluating arithmetic expressions in Python ###  \n",
    "Addition: 12 + 7 = 19  \n",
    "Subraction: 12 - 7 = 5  \n",
    "Division: 12 / 5 = 2.4  \n",
    "Multiplication: 5 * 3 = 15  "
   ]
  },
  {
   "cell_type": "code",
   "execution_count": 5,
   "id": "681bd2a1-2263-4abd-a5f6-820798a6d004",
   "metadata": {},
   "outputs": [
    {
     "name": "stdout",
     "output_type": "stream",
     "text": [
      "5 multiplied by 3 = 15\n",
      "12 added to 7 = 19\n"
     ]
    }
   ],
   "source": [
    "# This a simple arithmetic expression to mutiply integers\n",
    "print (\"5 multiplied by 3 =\", 5 * 3)\n",
    "# This a simple arithmetic expression to add integers\n",
    "print (\"12 added to 7 =\", 12 + 7)"
   ]
  },
  {
   "cell_type": "code",
   "execution_count": 7,
   "id": "0e41907e-7f5e-4c09-b969-33a5350f7ea6",
   "metadata": {},
   "outputs": [
    {
     "name": "stdout",
     "output_type": "stream",
     "text": [
      "This code converts minutes to hours ...\n",
      "\n",
      "This will convert 200 minutes to hours ...\n",
      "\n",
      "200 minutes is the same as  3.3333333333333335 hours\n"
     ]
    }
   ],
   "source": [
    "print(\"This code converts minutes to hours ...\\n\")\n",
    "print(\"This will convert 200 minutes to hours ...\\n\")\n",
    "# This will convert 200 minutes to hour: This will convert 200 minutes to hours by diving by 60.\n",
    "print(\"200 minutes is the same as \", 200 / 60 , \"hours\")\n"
   ]
  },
  {
   "cell_type": "code",
   "execution_count": null,
   "id": "3bda6b6d-0617-4261-b429-6507be1b927f",
   "metadata": {},
   "outputs": [],
   "source": []
  }
 ],
 "metadata": {
  "kernelspec": {
   "display_name": "Python",
   "language": "python",
   "name": "conda-env-python-py"
  },
  "language_info": {
   "codemirror_mode": {
    "name": "ipython",
    "version": 3
   },
   "file_extension": ".py",
   "mimetype": "text/x-python",
   "name": "python",
   "nbconvert_exporter": "python",
   "pygments_lexer": "ipython3",
   "version": "3.7.12"
  }
 },
 "nbformat": 4,
 "nbformat_minor": 5
}
